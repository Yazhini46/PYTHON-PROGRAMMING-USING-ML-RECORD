{
 "cells": [
  {
   "cell_type": "code",
   "execution_count": 1,
   "id": "334420bf-3aee-45b8-9a3b-188c2f0d337b",
   "metadata": {},
   "outputs": [
    {
     "name": "stdout",
     "output_type": "stream",
     "text": [
      "[[1 2 4]\n",
      " [5 8 7]]\n"
     ]
    }
   ],
   "source": [
    "#NUMPY\n",
    "import numpy as np\n",
    "a = np.array([[1, 2, 4], [5, 8, 7]])\n",
    "print ( a)"
   ]
  },
  {
   "cell_type": "code",
   "execution_count": 2,
   "id": "1807d1fa-b5bf-416d-8710-1655d38d659c",
   "metadata": {},
   "outputs": [
    {
     "name": "stdout",
     "output_type": "stream",
     "text": [
      "[[0. 0. 0. 0.]\n",
      " [0. 0. 0. 0.]\n",
      " [0. 0. 0. 0.]]\n"
     ]
    }
   ],
   "source": [
    "b = np.zeros((3, 4))\n",
    "print ( b)"
   ]
  },
  {
   "cell_type": "code",
   "execution_count": 3,
   "id": "cdaaf384-15ac-4cb7-8be7-7a6fee2fea4f",
   "metadata": {},
   "outputs": [
    {
     "name": "stdout",
     "output_type": "stream",
     "text": [
      "[[6 6 6]\n",
      " [6 6 6]\n",
      " [6 6 6]]\n"
     ]
    }
   ],
   "source": [
    "c = np.full((3, 3), 6)\n",
    "print ( c)"
   ]
  },
  {
   "cell_type": "code",
   "execution_count": 4,
   "id": "4cdf77b0-dcad-4034-a6a5-da534a3ce9c2",
   "metadata": {},
   "outputs": [
    {
     "name": "stdout",
     "output_type": "stream",
     "text": [
      "[ 0  5 10 15 20 25]\n"
     ]
    }
   ],
   "source": [
    "e = np.arange(0, 30, 5)\n",
    "print (e)"
   ]
  },
  {
   "cell_type": "code",
   "execution_count": 5,
   "id": "c381bf94-ddeb-48f7-88ab-c10fbda407cd",
   "metadata": {},
   "outputs": [
    {
     "name": "stdout",
     "output_type": "stream",
     "text": [
      "\n",
      "Original array: [[1 2 3 4]\n",
      " [5 2 4 2]\n",
      " [1 2 0 1]]\n",
      "Reshaped array: [[1 2 3]\n",
      " [4 5 2]\n",
      " [4 2 1]\n",
      " [2 0 1]]\n"
     ]
    }
   ],
   "source": [
    "arr = np.array([[1, 2, 3, 4],[5, 2, 4, 2],[1, 2, 0, 1]])\n",
    "newarr = arr.reshape(4, 3)\n",
    "print (\"\\nOriginal array:\", arr)\n",
    "print (\"Reshaped array:\", newarr)"
   ]
  },
  {
   "cell_type": "code",
   "execution_count": 6,
   "id": "803c4ca8-7a5e-4c85-944b-ee02ce380e82",
   "metadata": {},
   "outputs": [
    {
     "name": "stdout",
     "output_type": "stream",
     "text": [
      "Original array: [[1 2 3 4]\n",
      " [5 2 4 2]\n",
      " [1 2 0 1]]\n",
      "Fattened array: [1 2 3 4 5 2 4 2 1 2 0 1]\n",
      "No. of dimensions:  2\n"
     ]
    }
   ],
   "source": [
    "flarr = arr.flatten()\n",
    "print (\"Original array:\", arr)\n",
    "print (\"Fattened array:\", flarr)\n",
    "print(\"No. of dimensions: \", arr.ndim)"
   ]
  },
  {
   "cell_type": "code",
   "execution_count": 7,
   "id": "c6ea2a32-52ce-4e32-8470-cd3edcc3fe9b",
   "metadata": {},
   "outputs": [
    {
     "name": "stdout",
     "output_type": "stream",
     "text": [
      "[[ 0  1  2  3  4]\n",
      " [ 5  6  7  8  9]\n",
      " [10 11 12 13 14]]\n",
      "(3, 5)\n",
      "[[ 0  5 10]\n",
      " [ 1  6 11]\n",
      " [ 2  7 12]\n",
      " [ 3  8 13]\n",
      " [ 4  9 14]]\n",
      "(5, 3)\n"
     ]
    }
   ],
   "source": [
    "arr =np.arange(15).reshape((3, 5))\n",
    "print (arr)\n",
    "print (arr.shape)\n",
    "print (arr.T)\n",
    "print (arr.T.shape)"
   ]
  },
  {
   "cell_type": "code",
   "execution_count": 8,
   "id": "947b9c2b-f57c-4798-9565-da85741e5850",
   "metadata": {},
   "outputs": [
    {
     "name": "stdout",
     "output_type": "stream",
     "text": [
      "[[1 2 3 4]\n",
      " [3 5 8 9]]\n",
      "[[1 2 3]\n",
      " [5 2 4]]\n"
     ]
    }
   ],
   "source": [
    "arr = np.array([[1, 2, 3, 4],\n",
    "[5, 2, 4, 2],\n",
    "[3, 5, 8, 9],\n",
    "[5, 9, 2, 0],\n",
    "[1, 2, 0, 1]])\n",
    "print(arr[0:4:2])\n",
    "print(arr[:2,:3])"
   ]
  },
  {
   "cell_type": "code",
   "execution_count": 9,
   "id": "9bb89c25-a990-4f58-bf52-e385ce6813da",
   "metadata": {},
   "outputs": [
    {
     "name": "stdout",
     "output_type": "stream",
     "text": [
      "Series from array:\n",
      "0    P\n",
      "1    a\n",
      "2    n\n",
      "3    d\n",
      "4    a\n",
      "5    s\n",
      "dtype: object\n"
     ]
    }
   ],
   "source": [
    "#PANDAS\n",
    "import pandas as pd\n",
    "import numpy as np\n",
    "arr = np.array(['P','a','n','d','a','s'])\n",
    "a = pd.Series(arr)\n",
    "print(\"Series from array:\")\n",
    "print(a)"
   ]
  },
  {
   "cell_type": "code",
   "execution_count": 10,
   "id": "30e8dd54-2f79-4001-92c0-79daef795b9f",
   "metadata": {},
   "outputs": [
    {
     "name": "stdout",
     "output_type": "stream",
     "text": [
      "\n",
      "\n",
      "Series from dictionary:\n",
      "\n",
      "x    0.0\n",
      "y    1.0\n",
      "z    2.0\n",
      "dtype: float64\n"
     ]
    }
   ],
   "source": [
    "arr = {'x' : 0., 'y' : 1., 'z' : 2.}\n",
    "b = pd.Series(arr)\n",
    "print(\"\\n\\nSeries from dictionary:\\n\")\n",
    "print (b)"
   ]
  },
  {
   "cell_type": "code",
   "execution_count": 11,
   "id": "f618c2c0-d1c3-46dc-b6a5-1b9473b91c73",
   "metadata": {},
   "outputs": [
    {
     "name": "stdout",
     "output_type": "stream",
     "text": [
      "\n",
      "Series using scalar\n",
      "\n",
      "0    4\n",
      "1    4\n",
      "2    4\n",
      "3    4\n",
      "dtype: int64\n"
     ]
    }
   ],
   "source": [
    "x = pd.Series(4, index=[0, 1, 2, 3])\n",
    "print(\"\\nSeries using scalar\\n\")\n",
    "print (x)"
   ]
  },
  {
   "cell_type": "code",
   "execution_count": 12,
   "id": "3fe92122-ee74-4704-8a1e-f82c952a9dd4",
   "metadata": {},
   "outputs": [
    {
     "name": "stdout",
     "output_type": "stream",
     "text": [
      "Series through index:\n",
      "a    1\n",
      "b    2\n",
      "c    3\n",
      "dtype: int64\n"
     ]
    }
   ],
   "source": [
    "x = pd.Series([1,2,3],index = ['a','b','c'])\n",
    "print(\"Series through index:\")\n",
    "print (x)"
   ]
  },
  {
   "cell_type": "code",
   "execution_count": 13,
   "id": "b2854755-f057-4a0d-af6e-314bbe53e667",
   "metadata": {},
   "outputs": [
    {
     "name": "stdout",
     "output_type": "stream",
     "text": [
      "0    1\n",
      "1    2\n",
      "2    3\n",
      "3    4\n",
      "dtype: int64\n",
      "RangeIndex(start=0, stop=4, step=1)\n",
      "[1 2 3 4]\n",
      "(4,)\n",
      "1\n",
      "4\n"
     ]
    }
   ],
   "source": [
    "a=pd.Series(data=[1,2,3,4])\n",
    "print(a)\n",
    "print(a.index)\n",
    "print(a.values)\n",
    "print(a.shape)\n",
    "print(a.ndim)\n",
    "print(a.size)\n",
    "\n"
   ]
  },
  {
   "cell_type": "code",
   "execution_count": 14,
   "id": "4592042a-991d-4896-818a-92b920b7675b",
   "metadata": {},
   "outputs": [
    {
     "name": "stdout",
     "output_type": "stream",
     "text": [
      "       Emp   ID\n",
      "0   Parker  102\n",
      "1     John  107\n",
      "2    Smith  109\n",
      "3  William  114\n"
     ]
    }
   ],
   "source": [
    "emp = pd.Series(['Parker', 'John', 'Smith',\n",
    "'William'])\n",
    "id =pd.Series([102, 107, 109, 114])\n",
    "frame = { 'Emp': emp, 'ID': id }\n",
    "result = pd.DataFrame(frame)\n",
    "print(result)"
   ]
  },
  {
   "cell_type": "code",
   "execution_count": 15,
   "id": "caa0a293-674b-4c95-b43e-e879b9fae9f9",
   "metadata": {},
   "outputs": [
    {
     "name": "stdout",
     "output_type": "stream",
     "text": [
      "Empty DataFrame\n",
      "Columns: []\n",
      "Index: []\n"
     ]
    }
   ],
   "source": [
    "df = pd.DataFrame()\n",
    "print (df)"
   ]
  },
  {
   "cell_type": "code",
   "execution_count": 16,
   "id": "103d99ea-692e-4c47-a3c2-1e3fb7c1c98a",
   "metadata": {},
   "outputs": [
    {
     "data": {
      "image/png": "[encoded data removed]",
      "text/plain": [
       "<Figure size 640x480 with 1 Axes>"
      ]
     },
     "metadata": {},
     "output_type": "display_data"
    }
   ],
   "source": [
    "#MATPLOTLIB\n",
    "import matplotlib.pyplot as plt\n",
    "import numpy as np\n",
    "xpoints = np.array([0,1,2,3,4,5])\n",
    "ypoints = np.array([0,20,25,32,45,50])\n",
    "plt.plot(xpoints, ypoints)\n",
    "plt.show()"
   ]
  },
  {
   "cell_type": "code",
   "execution_count": 17,
   "id": "d325daff-cf05-412b-a593-47e9f3ab6388",
   "metadata": {},
   "outputs": [
    {
     "data": {
      "image/png": "[encoded data removed]",
      "text/plain": [
       "<Figure size 640x480 with 1 Axes>"
      ]
     },
     "metadata": {},
     "output_type": "display_data"
    }
   ],
   "source": [
    "import matplotlib.pyplot as plt\n",
    "import numpy as np\n",
    "xpoints = np.array([0,1,2,3,4,5])\n",
    "ypoints = np.array([0,20,25,32,45,50])\n",
    "plt.plot(xpoints, ypoints,marker= 'o')\n",
    "plt.show()"
   ]
  },
  {
   "cell_type": "code",
   "execution_count": 18,
   "id": "cfc184a5-7c61-4a65-9404-0c1f67221db2",
   "metadata": {},
   "outputs": [
    {
     "data": {
      "image/png": "[encoded data removed]",
      "text/plain": [
       "<Figure size 640x480 with 1 Axes>"
      ]
     },
     "metadata": {},
     "output_type": "display_data"
    }
   ],
   "source": [
    "import matplotlib.pyplot as plt\n",
    "import numpy as np\n",
    "xpoints = np.array([0,1,2,3,4,5])\n",
    "ypoints = np.array([0,20,25,32,45,50])\n",
    "plt.plot(xpoints, ypoints, '*')\n",
    "plt.show()"
   ]
  },
  {
   "cell_type": "code",
   "execution_count": 19,
   "id": "428d6566-f90a-4808-89d8-49994a1fe39d",
   "metadata": {},
   "outputs": [
    {
     "data": {
      "image/png": "[encoded data removed]",
      "text/plain": [
       "<Figure size 640x480 with 1 Axes>"
      ]
     },
     "metadata": {},
     "output_type": "display_data"
    }
   ],
   "source": [
    "import matplotlib.pyplot as plt\n",
    "import numpy as np\n",
    "ypoints = np.array([0,20,25,32,45,50])\n",
    "plt.plot(ypoints, linestyle = 'dotted')\n",
    "plt.show()"
   ]
  },
  {
   "cell_type": "code",
   "execution_count": 20,
   "id": "548772f5-faf3-4ccc-8359-38167c918bc8",
   "metadata": {},
   "outputs": [
    {
     "data": {
      "image/png": "[encoded data removed]",
      "text/plain": [
       "<Figure size 640x480 with 1 Axes>"
      ]
     },
     "metadata": {},
     "output_type": "display_data"
    }
   ],
   "source": [
    "import matplotlib.pyplot as plt\n",
    "import numpy as np\n",
    "xpoints = np.array([0,1,2,3,4,5])\n",
    "ypoints = np.array([0,20,25,32,45,50])\n",
    "plt.plot(xpoints, ypoints)\n",
    "plt.xlabel(\"index\")\n",
    "plt.ylabel(\"value\")\n",
    "plt.grid()\n",
    "plt.show()"
   ]
  },
  {
   "cell_type": "code",
   "execution_count": null,
   "id": "bf34a081-7d23-4261-a0dd-548c80ee3a59",
   "metadata": {},
   "outputs": [],
   "source": []
  }
 ],
 "metadata": {
  "kernelspec": {
   "display_name": "Python 3 (ipykernel)",
   "language": "python",
   "name": "python3"
  },
  "language_info": {
   "codemirror_mode": {
    "name": "ipython",
    "version": 3
   },
   "file_extension": ".py",
   "mimetype": "text/x-python",
   "name": "python",
   "nbconvert_exporter": "python",
   "pygments_lexer": "ipython3",
   "version": "3.12.3"
  }
 },
 "nbformat": 4,
 "nbformat_minor": 5
}
